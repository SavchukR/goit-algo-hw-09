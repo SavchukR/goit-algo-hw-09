{
  "cells": [
    {
      "cell_type": "markdown",
      "metadata": {
        "id": "z6qU9UC7baQ1"
      },
      "source": [
        "# Task 1"
      ]
    },
    {
      "cell_type": "code",
      "execution_count": 20,
      "metadata": {
        "id": "SKDJgpEVlBoE"
      },
      "outputs": [],
      "source": [
        "import timeit\n",
        "import random\n",
        "import numpy as np\n",
        "\n",
        "def measure(func, attempts = 5):\n",
        "  results = []\n",
        "\n",
        "  for _ in range(attempts):\n",
        "    start = timeit.default_timer()\n",
        "    func()\n",
        "    end = timeit.default_timer()\n",
        "    results.append(end - start)\n",
        "\n",
        "  return np.average(results)"
      ]
    },
    {
      "cell_type": "code",
      "execution_count": 21,
      "metadata": {
        "id": "5o_hu96NbXsM"
      },
      "outputs": [],
      "source": [
        "def find_coins_greedy(sum, nominals):\n",
        "    mod = sum\n",
        "\n",
        "    sorted_nominals = sorted(nominals, reverse=True)\n",
        "\n",
        "    output = {}\n",
        "    while mod != 0:\n",
        "        for nominal in sorted_nominals:\n",
        "            if nominal > mod:\n",
        "                continue\n",
        "\n",
        "            num = mod // nominal\n",
        "\n",
        "            output[nominal] = num\n",
        "\n",
        "            mod -= num * nominal\n",
        "\n",
        "            break\n",
        "\n",
        "    return output\n"
      ]
    },
    {
      "cell_type": "code",
      "execution_count": 22,
      "metadata": {
        "colab": {
          "base_uri": "https://localhost:8080/"
        },
        "id": "GLCTMe7gbZI2",
        "outputId": "49b1225e-e831-40e9-fb0c-04567cd1b6bf"
      },
      "outputs": [
        {
          "name": "stdout",
          "output_type": "stream",
          "text": [
            "Sum:  133  coins:  {100: 1, 20: 1, 10: 1, 2: 1, 1: 1}\n",
            "Sum:  84  coins:  {50: 1, 20: 1, 10: 1, 2: 2}\n",
            "Sum:  98  coins:  {50: 1, 20: 2, 5: 1, 2: 1, 1: 1}\n"
          ]
        }
      ],
      "source": [
        "\n",
        "sum = 133\n",
        "print(\"Sum: \", sum, \" coins: \", find_coins_greedy(sum, nominals=[1, 2, 5, 10, 20, 50, 100]))\n",
        "\n",
        "sum = 84\n",
        "print(\"Sum: \", sum, \" coins: \", find_coins_greedy(sum, nominals=[1, 2, 5, 10, 20, 50, 100]))\n",
        "\n",
        "sum = 98\n",
        "print(\"Sum: \", sum, \" coins: \", find_coins_greedy(sum, nominals=[1, 2, 5, 10, 20, 50, 100]))"
      ]
    },
    {
      "cell_type": "code",
      "execution_count": 23,
      "metadata": {
        "colab": {
          "base_uri": "https://localhost:8080/"
        },
        "id": "Rr6trfmRb1PO",
        "outputId": "462eae9a-3a1e-43ae-c9b6-11bbbf56ae88"
      },
      "outputs": [
        {
          "name": "stdout",
          "output_type": "stream",
          "text": [
            "Total time : 4192.4 ns\n"
          ]
        }
      ],
      "source": [
        "duration = measure(lambda: find_coins_greedy(98, nominals=[1, 2, 5, 10, 20, 50, 100]), 20)\n",
        "print(\"Total time : %.1f ns\" % (duration  * 1e9))"
      ]
    },
    {
      "cell_type": "code",
      "execution_count": 29,
      "metadata": {
        "colab": {
          "base_uri": "https://localhost:8080/"
        },
        "id": "KPS5bP_mlgaz",
        "outputId": "67aff2ea-a1cd-46ae-b0c9-f7e3b671254a"
      },
      "outputs": [
        {
          "name": "stdout",
          "output_type": "stream",
          "text": [
            "Total time : 6429.0 ns\n"
          ]
        }
      ],
      "source": [
        "duration = measure(lambda: find_coins_greedy(25720395, nominals=[1, 2, 5, 10, 20, 50, 100, 200, 500, 1000, 5000]), 20)\n",
        "print(\"Total time : %.1f ns\" % (duration  * 1e9))"
      ]
    },
    {
      "cell_type": "code",
      "execution_count": 25,
      "metadata": {
        "colab": {
          "base_uri": "https://localhost:8080/"
        },
        "id": "qqWUV5bItU1n",
        "outputId": "158fb5ea-bacb-4593-c8be-6dc8402a3173"
      },
      "outputs": [
        {
          "data": {
            "text/plain": [
              "{5000: 5144, 200: 1, 100: 1, 50: 1, 20: 2, 5: 1}"
            ]
          },
          "execution_count": 25,
          "metadata": {},
          "output_type": "execute_result"
        }
      ],
      "source": [
        "find_coins_greedy(25720395, nominals=[1, 2, 5, 10, 20, 50, 100, 200, 500, 1000, 5000])"
      ]
    },
    {
      "cell_type": "markdown",
      "metadata": {
        "id": "pGOn6c_XtTgH"
      },
      "source": [
        "Відповідь {5000: 5144, 200: 1, 100: 1, 50: 1, 20: 2, 5: 1}"
      ]
    },
    {
      "cell_type": "markdown",
      "metadata": {
        "id": "WvQuQk0ybdPk"
      },
      "source": [
        "# Task 2"
      ]
    },
    {
      "cell_type": "code",
      "execution_count": 26,
      "metadata": {
        "colab": {
          "base_uri": "https://localhost:8080/"
        },
        "id": "uD7QNF0Ebeyb",
        "outputId": "d7323b1e-d370-4a0b-ab36-83103a11424f"
      },
      "outputs": [
        {
          "name": "stdout",
          "output_type": "stream",
          "text": [
            "{50: 1, 20: 2, 5: 1, 2: 1, 1: 1}\n"
          ]
        }
      ],
      "source": [
        "def find_min_coins(amount, nominals):\n",
        "\n",
        "    dp = [float('inf')] * (amount + 1)\n",
        "\n",
        "    coin_used = [None] * (amount + 1)\n",
        "\n",
        "    dp[0] = 0\n",
        "\n",
        "    for coin in nominals:\n",
        "        for x in range(coin, amount + 1):\n",
        "            if dp[x - coin] + 1 < dp[x]:\n",
        "                dp[x] = dp[x - coin] + 1\n",
        "                coin_used[x] = coin\n",
        "\n",
        "    if dp[amount] == float('inf'):\n",
        "        return None\n",
        "\n",
        "    result = {}\n",
        "    current_amount = amount\n",
        "    while current_amount > 0:\n",
        "        coin = coin_used[current_amount]\n",
        "        if coin in result:\n",
        "            result[coin] += 1\n",
        "        else:\n",
        "            result[coin] = 1\n",
        "        current_amount -= coin\n",
        "\n",
        "    return result\n",
        "\n",
        "amount = 98\n",
        "\n",
        "print(find_min_coins(amount, nominals=[1, 2, 5, 10, 20, 50, 100, 200, 500, 1000, 5000]))\n",
        "\n"
      ]
    },
    {
      "cell_type": "code",
      "execution_count": 28,
      "metadata": {
        "colab": {
          "base_uri": "https://localhost:8080/"
        },
        "id": "Zj4_U9omcOn4",
        "outputId": "1b4e0c02-a14d-42d6-b9e6-76cbc113b94c"
      },
      "outputs": [
        {
          "name": "stdout",
          "output_type": "stream",
          "text": [
            "Total time : 99935331856.0 ns\n"
          ]
        }
      ],
      "source": [
        "duration = measure(lambda: find_min_coins(25720395, nominals=[1, 2, 5, 10, 20, 50, 100, 200, 500, 1000, 5000]), 1)\n",
        "print(\"Total time : %.1f ns\" % (duration  * 1e9))\n"
      ]
    },
    {
      "cell_type": "markdown",
      "metadata": {
        "id": "jHu7cGTrtR1n"
      },
      "source": [
        "Відповідь {5000: 5144, 200: 1, 100: 1, 50: 1, 20: 2, 5: 1}"
      ]
    }
  ],
  "metadata": {
    "colab": {
      "provenance": []
    },
    "kernelspec": {
      "display_name": "Python 3",
      "name": "python3"
    },
    "language_info": {
      "name": "python"
    }
  },
  "nbformat": 4,
  "nbformat_minor": 0
}
